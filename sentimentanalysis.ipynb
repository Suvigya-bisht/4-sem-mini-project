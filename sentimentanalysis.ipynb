{
  "nbformat": 4,
  "nbformat_minor": 0,
  "metadata": {
    "colab": {
      "name": "sentimentanalysis.ipynb",
      "provenance": [],
      "collapsed_sections": [],
      "authorship_tag": "ABX9TyNB/AgTXQmIBJi3Vh3DaUmt",
      "include_colab_link": true
    },
    "kernelspec": {
      "name": "python3",
      "display_name": "Python 3"
    },
    "language_info": {
      "name": "python"
    }
  },
  "cells": [
    {
      "cell_type": "markdown",
      "metadata": {
        "id": "view-in-github",
        "colab_type": "text"
      },
      "source": [
        "<a href=\"https://colab.research.google.com/github/Suvigya-bisht/git-github/blob/master/sentimentanalysis.ipynb\" target=\"_parent\"><img src=\"https://colab.research.google.com/assets/colab-badge.svg\" alt=\"Open In Colab\"/></a>"
      ]
    },
    {
      "cell_type": "markdown",
      "metadata": {
        "id": "pffJE9iD_eN9"
      },
      "source": [
        "To fetch tweets from twitter, we need to install tweepy liberary."
      ]
    },
    {
      "cell_type": "code",
      "metadata": {
        "colab": {
          "base_uri": "https://localhost:8080/"
        },
        "id": "qG_g1sYlRiWQ",
        "outputId": "26c1d39e-bf04-42d1-f9a0-0494a05edf9c"
      },
      "source": [
        "!pip install tweepy"
      ],
      "execution_count": 3,
      "outputs": [
        {
          "output_type": "stream",
          "text": [
            "Requirement already satisfied: tweepy in /usr/local/lib/python3.7/dist-packages (3.10.0)\n",
            "Requirement already satisfied: requests[socks]>=2.11.1 in /usr/local/lib/python3.7/dist-packages (from tweepy) (2.23.0)\n",
            "Requirement already satisfied: six>=1.10.0 in /usr/local/lib/python3.7/dist-packages (from tweepy) (1.15.0)\n",
            "Requirement already satisfied: requests-oauthlib>=0.7.0 in /usr/local/lib/python3.7/dist-packages (from tweepy) (1.3.0)\n",
            "Requirement already satisfied: chardet<4,>=3.0.2 in /usr/local/lib/python3.7/dist-packages (from requests[socks]>=2.11.1->tweepy) (3.0.4)\n",
            "Requirement already satisfied: idna<3,>=2.5 in /usr/local/lib/python3.7/dist-packages (from requests[socks]>=2.11.1->tweepy) (2.10)\n",
            "Requirement already satisfied: urllib3!=1.25.0,!=1.25.1,<1.26,>=1.21.1 in /usr/local/lib/python3.7/dist-packages (from requests[socks]>=2.11.1->tweepy) (1.24.3)\n",
            "Requirement already satisfied: certifi>=2017.4.17 in /usr/local/lib/python3.7/dist-packages (from requests[socks]>=2.11.1->tweepy) (2020.12.5)\n",
            "Requirement already satisfied: PySocks!=1.5.7,>=1.5.6; extra == \"socks\" in /usr/local/lib/python3.7/dist-packages (from requests[socks]>=2.11.1->tweepy) (1.7.1)\n",
            "Requirement already satisfied: oauthlib>=3.0.0 in /usr/local/lib/python3.7/dist-packages (from requests-oauthlib>=0.7.0->tweepy) (3.1.0)\n"
          ],
          "name": "stdout"
        }
      ]
    },
    {
      "cell_type": "markdown",
      "metadata": {
        "id": "duYJAJ9c_c8D"
      },
      "source": [
        "We'll import other liberaries that we need."
      ]
    },
    {
      "cell_type": "code",
      "metadata": {
        "colab": {
          "base_uri": "https://localhost:8080/"
        },
        "id": "eHE7iCc-0oRe",
        "outputId": "594e57b9-16c4-452c-8574-91260380bb18"
      },
      "source": [
        "#Importing Libraries\n",
        "import tweepy\n",
        "from textblob import TextBlob\n",
        "import pandas as pd\n",
        "import numpy as np\n",
        "import matplotlib.pyplot as plt\n",
        "import re\n",
        "import nltk\n",
        "nltk.download('stopwords')\n",
        "from nltk.corpus import stopwords\n",
        "from nltk.stem.porter import PorterStemmer\n",
        "from wordcloud import WordCloud\n",
        "import json\n",
        "from collections import Counter"
      ],
      "execution_count": 5,
      "outputs": [
        {
          "output_type": "stream",
          "text": [
            "[nltk_data] Downloading package stopwords to /root/nltk_data...\n",
            "[nltk_data]   Package stopwords is already up-to-date!\n"
          ],
          "name": "stdout"
        }
      ]
    },
    {
      "cell_type": "markdown",
      "metadata": {
        "id": "XJQw45oAAjFK"
      },
      "source": [
        "To use the 'tweepy' API, we need to create an account with Twitter Developer. After creating the account, on 'Get Started' option--navigate to the 'Create an app' option. After we create the app, we need to note down the below required credintials from there."
      ]
    },
    {
      "cell_type": "code",
      "metadata": {
        "id": "uF5pBmx709MU"
      },
      "source": [
        "#Part-1: Authorization and Search tweets\n",
        "#Getting authorization\n",
        "consumer_key = 'p6Fg6WjZeOIQN1FvrsnvCfcbo'\n",
        "consumer_key_secret = '7sgTYd66QCOoaEDuOXSoH5TkoTJrzmWvjEDnVdIaO7tqZgeGhg'\n",
        "access_token = '132425188-3pEgCTglpzvYC605OMINgGkn3fO5pTFMv2NfWY61'\n",
        "access_token_secret = 'Qkzccwwbf6J4Mrpkem4LHVefHxBT13E3C28x0F8gufIyc'\n",
        "auth = tweepy.OAuthHandler(consumer_key, consumer_key_secret)\n",
        "auth.set_access_token(access_token, access_token_secret)\n",
        "api = tweepy.API(auth, wait_on_rate_limit=True)"
      ],
      "execution_count": 6,
      "outputs": []
    },
    {
      "cell_type": "markdown",
      "metadata": {
        "id": "c4I63AgQ0Hwd"
      },
      "source": [
        "passing the keyword of interst here and maximum number of tweets to be downloaded through the tweepy API."
      ]
    },
    {
      "cell_type": "code",
      "metadata": {
        "id": "cCtB7bjw1Sf4"
      },
      "source": [
        "#Defining Search keyword and number of tweets and searching tweets\n",
        "query = 'vaccination drive'\n",
        "max_tweets = 1000\n",
        "searched_tweets = [status for status in tweepy.Cursor(api.search, q=query).items(max_tweets)]"
      ],
      "execution_count": 7,
      "outputs": []
    },
    {
      "cell_type": "markdown",
      "metadata": {
        "id": "QReTGNdC0mls"
      },
      "source": [
        "We will now analyze the sentiments of tweets that we have downloaded and visualize them"
      ]
    },
    {
      "cell_type": "code",
      "metadata": {
        "colab": {
          "base_uri": "https://localhost:8080/"
        },
        "id": "pB-yFKrw1mBF",
        "outputId": "1e62ca25-769a-442a-fa83-2de6857dfdaa"
      },
      "source": [
        "#Part-2: Sentiment Analysis Report\n",
        "\n",
        "#Finding sentiment analysis (+ve, -ve and neutral)\n",
        "pos = 0\n",
        "neg = 0\n",
        "neu = 0\n",
        "for tweet in searched_tweets:\n",
        "    analysis = TextBlob(tweet.text)\n",
        "    if analysis.sentiment[0]>0:\n",
        "       pos = pos +1\n",
        "    elif analysis.sentiment[0]<0:\n",
        "       neg = neg + 1\n",
        "    else:\n",
        "       neu = neu + 1\n",
        "print(\"Total Positive = \", pos)\n",
        "print(\"Total Negative = \", neg)\n",
        "print(\"Total Neutral = \", neu)"
      ],
      "execution_count": 8,
      "outputs": [
        {
          "output_type": "stream",
          "text": [
            "Total Positive =  319\n",
            "Total Negative =  142\n",
            "Total Neutral =  539\n"
          ],
          "name": "stdout"
        }
      ]
    },
    {
      "cell_type": "markdown",
      "metadata": {
        "id": "6go_MBlN0qqW"
      },
      "source": [
        ""
      ]
    },
    {
      "cell_type": "code",
      "metadata": {
        "colab": {
          "base_uri": "https://localhost:8080/",
          "height": 250
        },
        "id": "HTMXQN0-2k9B",
        "outputId": "41b85ea0-5bfe-48f4-9bce-d137a8917bdd"
      },
      "source": [
        "#Plotting sentiments\n",
        "labels = 'Positive', 'Negative', 'Neutral'\n",
        "sizes = [319, 142, 539]\n",
        "colors = ['skyblue', 'red', 'yellow']\n",
        "explode = (0.1, 0, 0)  # explode 1st slice\n",
        "plt.pie(sizes, explode=explode, labels=labels, colors=colors, autopct='%1.11f%%', shadow=True, startangle=140)\n",
        "plt.axis('equal')\n",
        "plt.show()"
      ],
      "execution_count": 9,
      "outputs": [
        {
          "output_type": "display_data",
          "data": {
            "image/png": "[encoded data removed]",
            "text/plain": [
              "<Figure size 432x288 with 1 Axes>"
            ]
          },
          "metadata": {
            "tags": []
          }
        }
      ]
    },
    {
      "cell_type": "markdown",
      "metadata": {
        "id": "Ewio2yGV0zO4"
      },
      "source": [
        " we will create a dataframe of all the tweet data that we have downloaded. Later all the processed data will be saved to a CSV file in the local system. Through this way, we can utilize this tweet data for other experimental purpose."
      ]
    },
    {
      "cell_type": "code",
      "metadata": {
        "id": "eHfCCBQb3kNC"
      },
      "source": [
        "#Part-3: Creating Dataframe of Tweets\n",
        "\n",
        "#Cleaning searched tweets and converting into Dataframe\n",
        "my_list_of_dicts = []\n",
        "for each_json_tweet in searched_tweets:\n",
        "    my_list_of_dicts.append(each_json_tweet._json)\n",
        "    \n",
        "with open('tweet_json_Data.txt', 'w') as file:\n",
        "        file.write(json.dumps(my_list_of_dicts, indent=4))\n",
        "        \n",
        "my_demo_list = []\n",
        "with open('tweet_json_Data.txt', encoding='utf-8') as json_file:  \n",
        "    all_data = json.load(json_file)\n",
        "    for each_dictionary in all_data:\n",
        "        tweet_id = each_dictionary['id']\n",
        "        text = each_dictionary['text']\n",
        "        favorite_count = each_dictionary['favorite_count']\n",
        "        retweet_count = each_dictionary['retweet_count']\n",
        "        created_at = each_dictionary['created_at']\n",
        "        my_demo_list.append({'tweet_id': str(tweet_id),\n",
        "                             'text': str(text),\n",
        "                             'favorite_count': int(favorite_count),\n",
        "                             'retweet_count': int(retweet_count),\n",
        "                             'created_at': created_at,\n",
        "                            })\n",
        "        \n",
        "        tweet_dataset = pd.DataFrame(my_demo_list, columns = \n",
        "                                  ['tweet_id', 'text', \n",
        "                                   'favorite_count', 'retweet_count', \n",
        "                                   'created_at'])\n",
        "    \n",
        "#Writing tweet dataset ti csv file for future reference\n",
        "tweet_dataset.to_csv('tweet_data.csv')"
      ],
      "execution_count": 11,
      "outputs": []
    },
    {
      "cell_type": "markdown",
      "metadata": {
        "id": "IOaN5oAV1F53"
      },
      "source": [
        "As we are ready now with the tweet data set, we will analyze our dataset and clean this data in the following segments."
      ]
    },
    {
      "cell_type": "code",
      "metadata": {
        "colab": {
          "base_uri": "https://localhost:8080/"
        },
        "id": "sGKstFEP4H9T",
        "outputId": "c748bac3-bd02-4af3-e6ec-0fca755a5523"
      },
      "source": [
        "tweet_dataset.shape"
      ],
      "execution_count": 12,
      "outputs": [
        {
          "output_type": "execute_result",
          "data": {
            "text/plain": [
              "(1000, 5)"
            ]
          },
          "metadata": {
            "tags": []
          },
          "execution_count": 12
        }
      ]
    },
    {
      "cell_type": "code",
      "metadata": {
        "colab": {
          "base_uri": "https://localhost:8080/",
          "height": 202
        },
        "id": "WHzWR5zy71KF",
        "outputId": "52da30e3-294f-4223-92df-6b0d04935cce"
      },
      "source": [
        "tweet_dataset.head()"
      ],
      "execution_count": 13,
      "outputs": [
        {
          "output_type": "execute_result",
          "data": {
            "text/html": [
              "<div>\n",
              "<style scoped>\n",
              "    .dataframe tbody tr th:only-of-type {\n",
              "        vertical-align: middle;\n",
              "    }\n",
              "\n",
              "    .dataframe tbody tr th {\n",
              "        vertical-align: top;\n",
              "    }\n",
              "\n",
              "    .dataframe thead th {\n",
              "        text-align: right;\n",
              "    }\n",
              "</style>\n",
              "<table border=\"1\" class=\"dataframe\">\n",
              "  <thead>\n",
              "    <tr style=\"text-align: right;\">\n",
              "      <th></th>\n",
              "      <th>tweet_id</th>\n",
              "      <th>text</th>\n",
              "      <th>favorite_count</th>\n",
              "      <th>retweet_count</th>\n",
              "      <th>created_at</th>\n",
              "    </tr>\n",
              "  </thead>\n",
              "  <tbody>\n",
              "    <tr>\n",
              "      <th>0</th>\n",
              "      <td>1392057097378955266</td>\n",
              "      <td>RT @drthomasisaac: Kerala places order for 1 c...</td>\n",
              "      <td>0</td>\n",
              "      <td>576</td>\n",
              "      <td>Tue May 11 10:00:49 +0000 2021</td>\n",
              "    </tr>\n",
              "    <tr>\n",
              "      <th>1</th>\n",
              "      <td>1392057074880708611</td>\n",
              "      <td>RT @pseudo_sapiens: A private hospital is char...</td>\n",
              "      <td>0</td>\n",
              "      <td>51</td>\n",
              "      <td>Tue May 11 10:00:44 +0000 2021</td>\n",
              "    </tr>\n",
              "    <tr>\n",
              "      <th>2</th>\n",
              "      <td>1392057061152722944</td>\n",
              "      <td>RT @timesofindia: Jain temple is Mumbai’s firs...</td>\n",
              "      <td>0</td>\n",
              "      <td>45</td>\n",
              "      <td>Tue May 11 10:00:41 +0000 2021</td>\n",
              "    </tr>\n",
              "    <tr>\n",
              "      <th>3</th>\n",
              "      <td>1392056985755951109</td>\n",
              "      <td>RT @IACAbhi: Being a Dilli wala myself, I'm Pr...</td>\n",
              "      <td>0</td>\n",
              "      <td>11</td>\n",
              "      <td>Tue May 11 10:00:23 +0000 2021</td>\n",
              "    </tr>\n",
              "    <tr>\n",
              "      <th>4</th>\n",
              "      <td>1392056964914499585</td>\n",
              "      <td>RT @Nawsagaray: An ideal vaccination drive is ...</td>\n",
              "      <td>0</td>\n",
              "      <td>3</td>\n",
              "      <td>Tue May 11 10:00:18 +0000 2021</td>\n",
              "    </tr>\n",
              "  </tbody>\n",
              "</table>\n",
              "</div>"
            ],
            "text/plain": [
              "              tweet_id  ...                      created_at\n",
              "0  1392057097378955266  ...  Tue May 11 10:00:49 +0000 2021\n",
              "1  1392057074880708611  ...  Tue May 11 10:00:44 +0000 2021\n",
              "2  1392057061152722944  ...  Tue May 11 10:00:41 +0000 2021\n",
              "3  1392056985755951109  ...  Tue May 11 10:00:23 +0000 2021\n",
              "4  1392056964914499585  ...  Tue May 11 10:00:18 +0000 2021\n",
              "\n",
              "[5 rows x 5 columns]"
            ]
          },
          "metadata": {
            "tags": []
          },
          "execution_count": 13
        }
      ]
    },
    {
      "cell_type": "code",
      "metadata": {
        "id": "klzjTrSe8L3l"
      },
      "source": [
        "#part 4 - Cleaning Data\n",
        "\n",
        "#Removing @ handle\n",
        "def remove_pattern(input_txt, pattern):\n",
        "    r = re.findall(pattern, input_txt)\n",
        "    for i in r:\n",
        "        input_txt = re.sub(i, '', input_txt)\n",
        "        \n",
        "    return input_txt \n",
        "\n",
        "tweet_dataset['text'] = np.vectorize(remove_pattern)(tweet_dataset['text'], \"@[\\w]*\")"
      ],
      "execution_count": 15,
      "outputs": []
    },
    {
      "cell_type": "code",
      "metadata": {
        "colab": {
          "base_uri": "https://localhost:8080/",
          "height": 202
        },
        "id": "nN1M3CuP8T5e",
        "outputId": "3c71b2c0-181c-4303-c81c-fe3ab66c8f44"
      },
      "source": [
        "tweet_dataset.head()"
      ],
      "execution_count": 16,
      "outputs": [
        {
          "output_type": "execute_result",
          "data": {
            "text/html": [
              "<div>\n",
              "<style scoped>\n",
              "    .dataframe tbody tr th:only-of-type {\n",
              "        vertical-align: middle;\n",
              "    }\n",
              "\n",
              "    .dataframe tbody tr th {\n",
              "        vertical-align: top;\n",
              "    }\n",
              "\n",
              "    .dataframe thead th {\n",
              "        text-align: right;\n",
              "    }\n",
              "</style>\n",
              "<table border=\"1\" class=\"dataframe\">\n",
              "  <thead>\n",
              "    <tr style=\"text-align: right;\">\n",
              "      <th></th>\n",
              "      <th>tweet_id</th>\n",
              "      <th>text</th>\n",
              "      <th>favorite_count</th>\n",
              "      <th>retweet_count</th>\n",
              "      <th>created_at</th>\n",
              "    </tr>\n",
              "  </thead>\n",
              "  <tbody>\n",
              "    <tr>\n",
              "      <th>0</th>\n",
              "      <td>1392057097378955266</td>\n",
              "      <td>RT : Kerala places order for 1 crore vaccine d...</td>\n",
              "      <td>0</td>\n",
              "      <td>576</td>\n",
              "      <td>Tue May 11 10:00:49 +0000 2021</td>\n",
              "    </tr>\n",
              "    <tr>\n",
              "      <th>1</th>\n",
              "      <td>1392057074880708611</td>\n",
              "      <td>RT : A private hospital is charging Rs 1950 fo...</td>\n",
              "      <td>0</td>\n",
              "      <td>51</td>\n",
              "      <td>Tue May 11 10:00:44 +0000 2021</td>\n",
              "    </tr>\n",
              "    <tr>\n",
              "      <th>2</th>\n",
              "      <td>1392057061152722944</td>\n",
              "      <td>RT : Jain temple is Mumbai’s first religious p...</td>\n",
              "      <td>0</td>\n",
              "      <td>45</td>\n",
              "      <td>Tue May 11 10:00:41 +0000 2021</td>\n",
              "    </tr>\n",
              "    <tr>\n",
              "      <th>3</th>\n",
              "      <td>1392056985755951109</td>\n",
              "      <td>RT : Being a Dilli wala myself, I'm Proud of  ...</td>\n",
              "      <td>0</td>\n",
              "      <td>11</td>\n",
              "      <td>Tue May 11 10:00:23 +0000 2021</td>\n",
              "    </tr>\n",
              "    <tr>\n",
              "      <th>4</th>\n",
              "      <td>1392056964914499585</td>\n",
              "      <td>RT : An ideal vaccination drive is a door to d...</td>\n",
              "      <td>0</td>\n",
              "      <td>3</td>\n",
              "      <td>Tue May 11 10:00:18 +0000 2021</td>\n",
              "    </tr>\n",
              "  </tbody>\n",
              "</table>\n",
              "</div>"
            ],
            "text/plain": [
              "              tweet_id  ...                      created_at\n",
              "0  1392057097378955266  ...  Tue May 11 10:00:49 +0000 2021\n",
              "1  1392057074880708611  ...  Tue May 11 10:00:44 +0000 2021\n",
              "2  1392057061152722944  ...  Tue May 11 10:00:41 +0000 2021\n",
              "3  1392056985755951109  ...  Tue May 11 10:00:23 +0000 2021\n",
              "4  1392056964914499585  ...  Tue May 11 10:00:18 +0000 2021\n",
              "\n",
              "[5 rows x 5 columns]"
            ]
          },
          "metadata": {
            "tags": []
          },
          "execution_count": 16
        }
      ]
    },
    {
      "cell_type": "code",
      "metadata": {
        "colab": {
          "base_uri": "https://localhost:8080/"
        },
        "id": "6OqzYskc8b6f",
        "outputId": "5baa77dc-323a-4365-d2ed-948b2019b3dd"
      },
      "source": [
        "tweet_dataset['text'].head(50)"
      ],
      "execution_count": 17,
      "outputs": [
        {
          "output_type": "execute_result",
          "data": {
            "text/plain": [
              "0     RT : Kerala places order for 1 crore vaccine d...\n",
              "1     RT : A private hospital is charging Rs 1950 fo...\n",
              "2     RT : Jain temple is Mumbai’s first religious p...\n",
              "3     RT : Being a Dilli wala myself, I'm Proud of  ...\n",
              "4     RT : An ideal vaccination drive is a door to d...\n",
              "5     RT : The Drive’s Very Much On \\n\\nDear Mumbaik...\n",
              "6     RT : Mumbai gets doorstep vaccination drive po...\n",
              "7     I took my first jab. I urge everyone to take t...\n",
              "8     RT : Another VIP brat  gets out of turn vaccin...\n",
              "9     RT : “Our nation is conducting the largest vac...\n",
              "10      sir, one Suggestion . Do make an audit of Va...\n",
              "11    Delhi Chief Minister Arvind Kejriwal on Tuesda...\n",
              "12      Please start vaccination drive for age group...\n",
              "13    RT : UK- 150 million dose for 67 million.\\nUSA...\n",
              "14    RT : Health Department Kralpora in association...\n",
              "15    RT : The Drive’s Very Much On \\n\\nDear Mumbaik...\n",
              "16    RT : UK- 150 million dose for 67 million.\\nUSA...\n",
              "17    RT : india's so called largest vaccination dri...\n",
              "18                            … https://t.co/Bv1LvofgLI\n",
              "19    RT : india's so called largest vaccination dri...\n",
              "20    . The Government of Maharashtra on Tuesday sus...\n",
              "21    RT : Once the bed allocation software issues a...\n",
              "22    RT : Despite the government enlisting #maulvis...\n",
              "23    Malacañang on Tuesday expressed optimism that ...\n",
              "24    RT : The spread of variants, increased social ...\n",
              "25    RT : The ministry said the Government of India...\n",
              "26        Absolutely \\nWe can’t sleep once again and...\n",
              "27    RT : A private hospital is charging Rs 1950 fo...\n",
              "28    RT : “Our nation is conducting the largest vac...\n",
              "29    RT : Jain temple is Mumbai’s first religious p...\n",
              "30    RT : 📍Vaccination site for today, 1st &amp; 2n...\n",
              "31    RT : Thanks to our team of doctors, nurses and...\n",
              "32    RT : Ahmedabad Municipal Corporation \\n\\n✅Thir...\n",
              "33    india's so called largest vaccination drive is...\n",
              "34    RT : Ahmedabad Municipal Corporation \\n\\n✅Thir...\n",
              "35    RT : Kerala places order for 1 crore vaccine d...\n",
              "36    RT : First phase vaccination was at every CHC ...\n",
              "37    RT : India's population is 131 crore\\n\\nIt wil...\n",
              "38    RT : Spain expects to reach herd immunity with...\n",
              "39    RT : While other countries are moving their va...\n",
              "40      https://t.co/uw03UcvB0M https://t.co/sFhq4Co6N7\n",
              "41    What’s slowing down Pakistan’s vaccination dri...\n",
              "42    RT : There is a dearth of vaccines hence we're...\n",
              "43    RT : Modi जी इस्तीफ़ा दो क्योंकि आपने ...\\n\\n👉...\n",
              "44    #Thanekar #GoodNews  Drive-in #COVID19 vaccina...\n",
              "45    RT : Mumbai gets doorstep vaccination drive po...\n",
              "46    RT : Health Department Kralpora in association...\n",
              "47    RT : Kerala places order for 1 crore vaccine d...\n",
              "48    RT : Modi जी इस्तीफ़ा दो क्योंकि आपने ...\\n\\n👉...\n",
              "49    RT : #Unite2FightCorona\\n#LargestVaccineDrive\\...\n",
              "Name: text, dtype: object"
            ]
          },
          "metadata": {
            "tags": []
          },
          "execution_count": 17
        }
      ]
    },
    {
      "cell_type": "markdown",
      "metadata": {
        "id": "e3UQ0J141dly"
      },
      "source": [
        "Now ready with the clean tweet data, we will perform NLP operations on the tweet texts including taking only alphabets, converting all to lower cases, tokenization and stemming. As retweets, hypertexts etc. are present in the tweets, we need to remove all those unneccessary information."
      ]
    },
    {
      "cell_type": "code",
      "metadata": {
        "id": "tdeXeo9N8ocP"
      },
      "source": [
        "#Cleaning Tweets\n",
        "corpus = []\n",
        "for i in range(0, 1000):\n",
        "    tweet = re.sub('[^a-zA-Z0-9]', ' ', tweet_dataset['text'][i])\n",
        "    tweet = tweet.lower()\n",
        "    tweet = re.sub('rt', '', tweet)\n",
        "    tweet = re.sub('http', '', tweet)\n",
        "    tweet = re.sub('https', '', tweet)\n",
        "    tweet = tweet.split()\n",
        "    ps = PorterStemmer()\n",
        "    tweet = [ps.stem(word) for word in tweet if not word in set(stopwords.words('english'))]\n",
        "    tweet = ' '.join(tweet)\n",
        "    corpus.append(tweet)"
      ],
      "execution_count": 19,
      "outputs": []
    },
    {
      "cell_type": "markdown",
      "metadata": {
        "id": "VeLrpHy52I4k"
      },
      "source": [
        "Term frequency founded."
      ]
    },
    {
      "cell_type": "code",
      "metadata": {
        "colab": {
          "base_uri": "https://localhost:8080/"
        },
        "id": "pyAwjWYn9Fzl",
        "outputId": "c7215ea2-fd3b-41b6-b998-eb61ccfc79bf"
      },
      "source": [
        "#Term Freqency - TF-IDF\n",
        "from sklearn.feature_extraction.text import TfidfVectorizer\n",
        "tfidf_vectorizer = TfidfVectorizer(max_df=0.90, min_df=2, max_features=1000, stop_words='english')\n",
        "tfidf = tfidf_vectorizer.fit_transform(tweet_dataset['text'])\n",
        "#Count Most Frequent Words\n",
        "Counter = Counter(corpus)\n",
        "most_occur = Counter.most_common(10) \n",
        "print(most_occur)"
      ],
      "execution_count": 20,
      "outputs": [
        {
          "output_type": "stream",
          "text": [
            "[('nation conduct largest vaccin drive world sadden conduct congress pay', 77), ('health depament kralpora associ indianarmi carri vaccin drive villag keran kupwara', 77), ('privat hospit charg rs 1950 singl dose covaxin site organis delhi ncr rat', 49), ('kerala place order 1 crore vaccin dose yesterday receiv 3 5 lakh dose 300 per dose vaccin f', 45), ('deah vaccin henc consid hold vaccin drive temporarili 18 44 age group 2 75 lakh va', 24), ('deah vaccin henc consid hold vaccin drive temporarili 18 44 age group 2 75 lakh vac', 23), ('mumbai get doorstep vaccin drive polici pcvc hous societi posit move shri iqbal chahal', 22), ('smooth vaccin drive gb nagar co lvn6rknc3z', 22), ('modi vaccin drive ph ph ii amp ph iii', 19), ('india current wage spirit fight covid 19 global pandem nation conduct largest vacci', 19)]\n"
          ],
          "name": "stdout"
        }
      ]
    }
  ]
}